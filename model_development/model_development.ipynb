{
  "cells": [
    {
      "cell_type": "code",
      "execution_count": null,
      "metadata": {
        "id": "xrZQvroY2B5Z"
      },
      "outputs": [],
      "source": [
        "# %matplotlib inline\n",
        "# from google.colab import files\n",
        "import os\n",
        "\n",
        "# TensorFlow and tf.keras\n",
        "import tensorflow as tf\n",
        "from tensorflow import keras\n",
        "# from keras.models import Sequential\n",
        "# from keras.layers.convolutional import Conv2D, MaxPooling2D\n",
        "\n",
        "# from keras.layers import Dense, Flatten, Dropout\n",
        "from tensorflow.keras.models import Sequential\n",
        "from tensorflow.keras.layers import Conv2D, MaxPooling2D, Dense, Flatten, Dropout\n",
        "\n",
        "# Helper libraries\n",
        "import numpy as np\n",
        "import matplotlib.pyplot as plt\n",
        "import cv2\n",
        "import pandas as pd\n",
        "\n",
        "# Sklearn\n",
        "from sklearn.model_selection import train_test_split # Helps with organizing data for training\n",
        "from sklearn.metrics import confusion_matrix # Helps present results as a confusion-matrix\n",
        "import pickle\n",
        "import onnx\n",
        "\n",
        "print(tf.__version__)"
      ]
    },
    {
      "cell_type": "code",
      "execution_count": null,
      "metadata": {
        "id": "85MVQbzk5vZ3"
      },
      "outputs": [],
      "source": [
        "with open('X_test.pkl', 'rb') as file:\n",
        "    X_test = pickle.load(file)\n",
        "\n",
        "with open('y_test.pkl', 'rb') as file:\n",
        "    y_test = pickle.load(file)\n",
        "\n",
        "with open('X_train.pkl', 'rb') as file:\n",
        "    X_train = pickle.load(file)\n",
        "\n",
        "with open('y_train.pkl', 'rb') as file:\n",
        "    y_train = pickle.load(file)\n"
      ]
    },
    {
      "cell_type": "code",
      "execution_count": null,
      "metadata": {
        "id": "hVsGdH-v7Adt"
      },
      "outputs": [],
      "source": [
        "model = Sequential()\n",
        "model.add(Conv2D(32, (5, 5), activation='relu', input_shape=(96, 96, 1))) \n",
        "model.add(MaxPooling2D((2, 2)))\n",
        "model.add(Dropout(0.2))\n",
        "model.add(Conv2D(64, (3, 3), activation='relu')) \n",
        "model.add(MaxPooling2D((2, 2)))\n",
        "model.add(Dropout(0.2))\n",
        "model.add(Conv2D(64, (3, 3), activation='relu'))\n",
        "model.add(MaxPooling2D((2, 2)))\n",
        "model.add(Flatten())\n",
        "model.add(Dense(128, activation='relu'))\n",
        "model.add(Dense(6, activation='softmax'))"
      ]
    },
    {
      "cell_type": "code",
      "execution_count": null,
      "metadata": {
        "id": "Yc73uy1n7Imi"
      },
      "outputs": [],
      "source": [
        "# Configures the model for training\n",
        "model.compile(optimizer='adam', # Optimization routine, which tells the computer how to adjust the parameter values to minimize the loss function.\n",
        "              loss='sparse_categorical_crossentropy', # Loss function, which tells us how bad our predictions are.\n",
        "              metrics=['accuracy']) # List of metrics to be evaluated by the model during training and testing."
      ]
    },
    {
      "cell_type": "code",
      "execution_count": null,
      "metadata": {
        "colab": {
          "base_uri": "https://localhost:8080/"
        },
        "id": "b7Ws0V4O7KuI",
        "outputId": "dcd6bc19-b15e-4063-cdd1-b93b6f73e486"
      },
      "outputs": [],
      "source": [
        "model.summary()"
      ]
    },
    {
      "cell_type": "code",
      "execution_count": null,
      "metadata": {
        "colab": {
          "base_uri": "https://localhost:8080/"
        },
        "id": "lGr6Mcni7NZD",
        "outputId": "3e432712-8af7-43f3-c860-f8f00019f42f"
      },
      "outputs": [],
      "source": [
        "# Trains the model for a given number of epochs (iterations on a dataset) and validates it.\n",
        "history=model.fit(X_train, y_train, epochs=1, batch_size=64, verbose=1, validation_data=(X_test, y_test))"
      ]
    },
    {
      "cell_type": "code",
      "execution_count": null,
      "metadata": {
        "id": "lwDljIhY7ORG"
      },
      "outputs": [],
      "source": [
        "model.save('handrecognition_model.h5')"
      ]
    },
    {
      "cell_type": "code",
      "execution_count": null,
      "metadata": {
        "colab": {
          "base_uri": "https://localhost:8080/"
        },
        "id": "iijdpxmm91F7",
        "outputId": "b9e98aed-6ffb-4a8f-e1b6-9d17b4531246"
      },
      "outputs": [],
      "source": [
        "# model = tf.keras.models.load_model(\"handrecognition_model.h5\")\n",
        "# tf.saved_model.save(model, \"tmp_model\")"
      ]
    },
    {
      "cell_type": "code",
      "execution_count": null,
      "metadata": {
        "colab": {
          "base_uri": "https://localhost:8080/"
        },
        "id": "iU6CRy0E7WZU",
        "outputId": "6be66f91-3324-4fc9-dc62-e9be2857a4aa"
      },
      "outputs": [],
      "source": [
        "# !python -m tf2onnx.convert --saved-model tmp_model --output \"handrecognition_model.onnx\""
      ]
    },
    {
      "cell_type": "code",
      "execution_count": null,
      "metadata": {},
      "outputs": [],
      "source": [
        "\n",
        "import tf2onnx\n",
        "from onnx import checker\n",
        "\n",
        "# Assume you have trained and saved your CNN model\n",
        "\n",
        "# Load the trained model\n",
        "model = keras.models.load_model('handrecognition_model.h5')\n",
        "\n",
        "# Define the input spec\n",
        "spec = (tf.TensorSpec((None, 96, 96, 1), tf.float32, name=\"input\"),)\n",
        "\n",
        "# Convert the model to ONNX format\n",
        "output_path = \"handrecognition_model.onnx\"\n",
        "model_proto, _ = tf2onnx.convert.from_keras(model, input_signature=spec, opset=13, output_path=output_path)\n",
        "\n",
        "# Check the converted model\n",
        "checker.check_graph(model_proto.graph)"
      ]
    },
    {
      "cell_type": "code",
      "execution_count": null,
      "metadata": {
        "colab": {
          "base_uri": "https://localhost:8080/"
        },
        "id": "31NhKnQd7V21",
        "outputId": "be697116-e7c8-4e28-adfb-68cce82c2d37"
      },
      "outputs": [],
      "source": [
        "!zip -r tmp_model.zip tmp_model"
      ]
    },
    {
      "cell_type": "code",
      "execution_count": null,
      "metadata": {
        "colab": {
          "base_uri": "https://localhost:8080/",
          "height": 17
        },
        "id": "GEbimkHm9-qC",
        "outputId": "cdfaceca-0bf9-45cf-dadc-c13ee21cb80a"
      },
      "outputs": [],
      "source": [
        "# from google.colab import files\n",
        "# files.download(\"/content/handrecognition_model.h5\")\n",
        "# files.download(\"/content/handrecognition_model.onnx\")\n",
        "# files.download(\"/content/tmp_model.zip\")"
      ]
    }
  ],
  "metadata": {
    "colab": {
      "collapsed_sections": [],
      "provenance": []
    },
    "kernelspec": {
      "display_name": "Python 3",
      "name": "python3"
    },
    "language_info": {
      "codemirror_mode": {
        "name": "ipython",
        "version": 3
      },
      "file_extension": ".py",
      "mimetype": "text/x-python",
      "name": "python",
      "nbconvert_exporter": "python",
      "pygments_lexer": "ipython3",
      "version": "3.8.19"
    }
  },
  "nbformat": 4,
  "nbformat_minor": 0
}
